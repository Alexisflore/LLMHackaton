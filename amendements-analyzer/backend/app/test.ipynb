{
 "cells": [
  {
   "cell_type": "code",
   "execution_count": 3,
   "metadata": {},
   "outputs": [
    {
     "name": "stdout",
     "output_type": "stream",
     "text": [
      "[-0.03009033  0.04501343  0.0645752  ... -0.01693726 -0.00894165\n",
      "  0.00600052]\n"
     ]
    }
   ],
   "source": [
    "import psycopg2\n",
    "import os\n",
    "import json\n",
    "from dotenv import load_dotenv\n",
    "load_dotenv()\n",
    "import numpy as np\n",
    "\n",
    "\n",
    "connection_str = os.getenv('NEON_CON_STR')\n",
    "\n",
    "\n",
    "conn = psycopg2.connect(connection_str)\n",
    "cursor = conn.cursor()\n",
    "cursor.execute(\"SELECT id, embedding FROM hackathon_law_documents;\")\n",
    "results = cursor.fetchall()\n",
    "\n",
    "for index, value in iter(results):\n",
    "    if index == 1:\n",
    "        embedding = json.loads(value)\n",
    "        embeddings = []\n",
    "        embeddings.append(embedding)\n",
    "        \n",
    "embeddings = np.array(embeddings)\n",
    "print(embeddings[0])"
   ]
  }
 ],
 "metadata": {
  "kernelspec": {
   "display_name": "victorenv",
   "language": "python",
   "name": "python3"
  },
  "language_info": {
   "codemirror_mode": {
    "name": "ipython",
    "version": 3
   },
   "file_extension": ".py",
   "mimetype": "text/x-python",
   "name": "python",
   "nbconvert_exporter": "python",
   "pygments_lexer": "ipython3",
   "version": "3.11.9"
  }
 },
 "nbformat": 4,
 "nbformat_minor": 2
}
